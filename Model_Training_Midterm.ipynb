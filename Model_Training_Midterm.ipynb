{
  "nbformat": 4,
  "nbformat_minor": 0,
  "metadata": {
    "colab": {
      "provenance": [],
      "authorship_tag": "ABX9TyOvchwuiz4uUZVwIL5gKz5f",
      "include_colab_link": true
    },
    "kernelspec": {
      "name": "python3",
      "display_name": "Python 3"
    },
    "language_info": {
      "name": "python"
    }
  },
  "cells": [
    {
      "cell_type": "markdown",
      "metadata": {
        "id": "view-in-github",
        "colab_type": "text"
      },
      "source": [
        "<a href=\"https://colab.research.google.com/github/Sardorbek-HUB/Predictive_Maintenance_for_Conveyor_Belts/blob/main/Model_Training_Midterm.ipynb\" target=\"_parent\"><img src=\"https://colab.research.google.com/assets/colab-badge.svg\" alt=\"Open In Colab\"/></a>"
      ]
    },
    {
      "cell_type": "code",
      "source": [
        "import numpy as np\n",
        "import tensorflow as tf\n",
        "from tensorflow import keras\n",
        "from tensorflow.keras import layers\n",
        "\n",
        "# Generate some sample data (using preprocessed data)\n",
        "X_train = np.random.rand(100, 50, 3)  # Sample input data (100 sequences, each with 50 time steps and 3 features)\n",
        "y_train = np.random.randint(2, size=100)  # Sample labels (binary classification)\n",
        "\n",
        "# Define the LSTM model\n",
        "model = keras.Sequential()\n",
        "\n",
        "# LSTM layer\n",
        "model.add(layers.LSTM(50, input_shape=(X_train.shape[1], X_train.shape[2])))\n",
        "\n",
        "# Output layer\n",
        "model.add(layers.Dense(1, activation='sigmoid'))\n",
        "\n",
        "# Compile the model\n",
        "model.compile(loss='binary_crossentropy', optimizer='adam', metrics=['accuracy'])\n",
        "\n",
        "# Train the model\n",
        "model.fit(X_train, y_train, epochs=20, batch_size=64)\n",
        "# In this Model 20 epochs were trained with batch size of 64"
      ],
      "metadata": {
        "colab": {
          "base_uri": "https://localhost:8080/"
        },
        "id": "4-rYnFOIlZ1j",
        "outputId": "70cc0048-e007-477b-d262-557a16073642"
      },
      "execution_count": 4,
      "outputs": [
        {
          "output_type": "stream",
          "name": "stdout",
          "text": [
            "Epoch 1/20\n",
            "2/2 [==============================] - 3s 27ms/step - loss: 0.6951 - accuracy: 0.5200\n",
            "Epoch 2/20\n",
            "2/2 [==============================] - 0s 26ms/step - loss: 0.6935 - accuracy: 0.5200\n",
            "Epoch 3/20\n",
            "2/2 [==============================] - 0s 26ms/step - loss: 0.6932 - accuracy: 0.5200\n",
            "Epoch 4/20\n",
            "2/2 [==============================] - 0s 33ms/step - loss: 0.6929 - accuracy: 0.5200\n",
            "Epoch 5/20\n",
            "2/2 [==============================] - 0s 26ms/step - loss: 0.6924 - accuracy: 0.5200\n",
            "Epoch 6/20\n",
            "2/2 [==============================] - 0s 26ms/step - loss: 0.6919 - accuracy: 0.5200\n",
            "Epoch 7/20\n",
            "2/2 [==============================] - 0s 30ms/step - loss: 0.6917 - accuracy: 0.5200\n",
            "Epoch 8/20\n",
            "2/2 [==============================] - 0s 27ms/step - loss: 0.6916 - accuracy: 0.5200\n",
            "Epoch 9/20\n",
            "2/2 [==============================] - 0s 26ms/step - loss: 0.6916 - accuracy: 0.5200\n",
            "Epoch 10/20\n",
            "2/2 [==============================] - 0s 26ms/step - loss: 0.6911 - accuracy: 0.5200\n",
            "Epoch 11/20\n",
            "2/2 [==============================] - 0s 27ms/step - loss: 0.6908 - accuracy: 0.5200\n",
            "Epoch 12/20\n",
            "2/2 [==============================] - 0s 27ms/step - loss: 0.6902 - accuracy: 0.5200\n",
            "Epoch 13/20\n",
            "2/2 [==============================] - 0s 26ms/step - loss: 0.6908 - accuracy: 0.5200\n",
            "Epoch 14/20\n",
            "2/2 [==============================] - 0s 28ms/step - loss: 0.6893 - accuracy: 0.5200\n",
            "Epoch 15/20\n",
            "2/2 [==============================] - 0s 26ms/step - loss: 0.6893 - accuracy: 0.5400\n",
            "Epoch 16/20\n",
            "2/2 [==============================] - 0s 27ms/step - loss: 0.6884 - accuracy: 0.5300\n",
            "Epoch 17/20\n",
            "2/2 [==============================] - 0s 35ms/step - loss: 0.6879 - accuracy: 0.5400\n",
            "Epoch 18/20\n",
            "2/2 [==============================] - 0s 26ms/step - loss: 0.6875 - accuracy: 0.5600\n",
            "Epoch 19/20\n",
            "2/2 [==============================] - 0s 27ms/step - loss: 0.6869 - accuracy: 0.5500\n",
            "Epoch 20/20\n",
            "2/2 [==============================] - 0s 29ms/step - loss: 0.6860 - accuracy: 0.5500\n"
          ]
        },
        {
          "output_type": "execute_result",
          "data": {
            "text/plain": [
              "<keras.src.callbacks.History at 0x7e89a6c01660>"
            ]
          },
          "metadata": {},
          "execution_count": 4
        }
      ]
    },
    {
      "cell_type": "code",
      "source": [
        "from tensorflow.keras.callbacks import EarlyStopping, ModelCheckpoint\n",
        "\n",
        "# Define callbacks\n",
        "early_stopping = EarlyStopping(monitor='val_loss', patience=5, restore_best_weights=True)\n",
        "model_checkpoint = ModelCheckpoint('best_model.h5', save_best_only=True)\n",
        "\n",
        "# Train the model with callbacks\n",
        "history = model.fit(\n",
        "    X_train, y_train,\n",
        "    epochs=num_epochs,\n",
        "    batch_size=batch_size,\n",
        "    validation_split=0.2,  # You can specify a validation set\n",
        "    callbacks=[early_stopping, model_checkpoint]\n",
        ")"
      ],
      "metadata": {
        "colab": {
          "base_uri": "https://localhost:8080/"
        },
        "id": "bDxL4qiImtYy",
        "outputId": "5e1c6d28-2b07-4d70-9f79-a93c02013479"
      },
      "execution_count": 5,
      "outputs": [
        {
          "output_type": "stream",
          "name": "stdout",
          "text": [
            "Epoch 1/10\n",
            "3/3 [==============================] - 1s 323ms/step - loss: 0.6818 - accuracy: 0.5750 - val_loss: 0.7245 - val_accuracy: 0.4000\n",
            "Epoch 2/10\n",
            "3/3 [==============================] - 0s 45ms/step - loss: 0.6776 - accuracy: 0.5750 - val_loss: 0.7368 - val_accuracy: 0.3500\n",
            "Epoch 3/10\n",
            "1/3 [=========>....................] - ETA: 0s - loss: 0.6352 - accuracy: 0.6875"
          ]
        },
        {
          "output_type": "stream",
          "name": "stderr",
          "text": [
            "/usr/local/lib/python3.10/dist-packages/keras/src/engine/training.py:3000: UserWarning: You are saving your model as an HDF5 file via `model.save()`. This file format is considered legacy. We recommend using instead the native Keras format, e.g. `model.save('my_model.keras')`.\n",
            "  saving_api.save_model(\n"
          ]
        },
        {
          "output_type": "stream",
          "name": "stdout",
          "text": [
            "\b\b\b\b\b\b\b\b\b\b\b\b\b\b\b\b\b\b\b\b\b\b\b\b\b\b\b\b\b\b\b\b\b\b\b\b\b\b\b\b\b\b\b\b\b\b\b\b\b\b\b\b\b\b\b\b\b\b\b\b\b\b\b\b\b\b\b\b\b\b\b\b\b\b\b\b\b\b\b\b\r3/3 [==============================] - 0s 50ms/step - loss: 0.6839 - accuracy: 0.5625 - val_loss: 0.7615 - val_accuracy: 0.3500\n",
            "Epoch 4/10\n",
            "3/3 [==============================] - 0s 44ms/step - loss: 0.6779 - accuracy: 0.5750 - val_loss: 0.7292 - val_accuracy: 0.4000\n",
            "Epoch 5/10\n",
            "3/3 [==============================] - 0s 45ms/step - loss: 0.6743 - accuracy: 0.6000 - val_loss: 0.7256 - val_accuracy: 0.4000\n",
            "Epoch 6/10\n",
            "3/3 [==============================] - 0s 48ms/step - loss: 0.6743 - accuracy: 0.6000 - val_loss: 0.7292 - val_accuracy: 0.4000\n"
          ]
        }
      ]
    },
    {
      "cell_type": "code",
      "source": [
        "import matplotlib.pyplot as plt\n",
        "\n",
        "# Visualize training progress\n",
        "history = model.fit(X_train, y_train, epochs=num_epochs, batch_size=batch_size, validation_split=0.2)\n",
        "\n",
        "# Plot training and validation loss\n",
        "plt.plot(history.history['loss'], label='Training Loss')\n",
        "plt.plot(history.history['val_loss'], label='Validation Loss')\n",
        "plt.xlabel('Epoch')\n",
        "plt.ylabel('Loss')\n",
        "plt.legend()\n",
        "plt.show()\n"
      ],
      "metadata": {
        "colab": {
          "base_uri": "https://localhost:8080/",
          "height": 796
        },
        "id": "FuB8Zjj2mzA5",
        "outputId": "7b2f10fb-ecf9-4649-afd7-37134cc1004f"
      },
      "execution_count": 16,
      "outputs": [
        {
          "output_type": "stream",
          "name": "stdout",
          "text": [
            "Epoch 1/10\n",
            "3/3 [==============================] - 0s 62ms/step - loss: 0.6733 - accuracy: 0.5875 - val_loss: 0.7224 - val_accuracy: 0.4000\n",
            "Epoch 2/10\n",
            "3/3 [==============================] - 0s 46ms/step - loss: 0.6715 - accuracy: 0.5875 - val_loss: 0.7118 - val_accuracy: 0.3500\n",
            "Epoch 3/10\n",
            "3/3 [==============================] - 0s 47ms/step - loss: 0.6748 - accuracy: 0.6125 - val_loss: 0.7035 - val_accuracy: 0.4000\n",
            "Epoch 4/10\n",
            "3/3 [==============================] - 0s 43ms/step - loss: 0.6721 - accuracy: 0.6250 - val_loss: 0.7139 - val_accuracy: 0.3500\n",
            "Epoch 5/10\n",
            "3/3 [==============================] - 0s 43ms/step - loss: 0.6697 - accuracy: 0.6125 - val_loss: 0.7297 - val_accuracy: 0.4000\n",
            "Epoch 6/10\n",
            "3/3 [==============================] - 0s 39ms/step - loss: 0.6699 - accuracy: 0.5875 - val_loss: 0.7492 - val_accuracy: 0.3500\n",
            "Epoch 7/10\n",
            "3/3 [==============================] - 0s 41ms/step - loss: 0.6699 - accuracy: 0.5750 - val_loss: 0.7500 - val_accuracy: 0.4000\n",
            "Epoch 8/10\n",
            "3/3 [==============================] - 0s 44ms/step - loss: 0.6664 - accuracy: 0.5875 - val_loss: 0.7213 - val_accuracy: 0.3500\n",
            "Epoch 9/10\n",
            "3/3 [==============================] - 0s 38ms/step - loss: 0.6642 - accuracy: 0.6125 - val_loss: 0.6852 - val_accuracy: 0.4500\n",
            "Epoch 10/10\n",
            "3/3 [==============================] - 0s 42ms/step - loss: 0.6699 - accuracy: 0.6125 - val_loss: 0.6789 - val_accuracy: 0.5000\n"
          ]
        },
        {
          "output_type": "display_data",
          "data": {
            "text/plain": [
              "<Figure size 640x480 with 1 Axes>"
            ],
            "image/png": "[encoded data removed]"
          },
          "metadata": {}
        }
      ]
    }
  ]
}