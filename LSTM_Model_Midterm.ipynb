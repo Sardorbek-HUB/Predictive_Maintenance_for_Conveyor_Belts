{
  "nbformat": 4,
  "nbformat_minor": 0,
  "metadata": {
    "colab": {
      "provenance": [],
      "authorship_tag": "ABX9TyN2NGh3pXigy5UAAPRTQ6OS",
      "include_colab_link": true
    },
    "kernelspec": {
      "name": "python3",
      "display_name": "Python 3"
    },
    "language_info": {
      "name": "python"
    }
  },
  "cells": [
    {
      "cell_type": "markdown",
      "metadata": {
        "id": "view-in-github",
        "colab_type": "text"
      },
      "source": [
        "<a href=\"https://colab.research.google.com/github/Sardorbek-HUB/Predictive_Maintenance_for_Conveyor_Belts/blob/main/LSTM_Model_Midterm.ipynb\" target=\"_parent\"><img src=\"https://colab.research.google.com/assets/colab-badge.svg\" alt=\"Open In Colab\"/></a>"
      ]
    },
    {
      "cell_type": "code",
      "execution_count": 3,
      "metadata": {
        "colab": {
          "base_uri": "https://localhost:8080/"
        },
        "id": "9DZ_MyeFhXxk",
        "outputId": "417374fd-c798-4cca-bdad-37ffa846e39d"
      },
      "outputs": [
        {
          "output_type": "stream",
          "name": "stdout",
          "text": [
            "Epoch 1/10\n",
            "4/4 [==============================] - 3s 27ms/step - loss: 0.6908 - accuracy: 0.5800\n",
            "Epoch 2/10\n",
            "4/4 [==============================] - 0s 26ms/step - loss: 0.6841 - accuracy: 0.5800\n",
            "Epoch 3/10\n",
            "4/4 [==============================] - 0s 27ms/step - loss: 0.6829 - accuracy: 0.5800\n",
            "Epoch 4/10\n",
            "4/4 [==============================] - 0s 29ms/step - loss: 0.6804 - accuracy: 0.5800\n",
            "Epoch 5/10\n",
            "4/4 [==============================] - 0s 25ms/step - loss: 0.6788 - accuracy: 0.5800\n",
            "Epoch 6/10\n",
            "4/4 [==============================] - 0s 24ms/step - loss: 0.6788 - accuracy: 0.5800\n",
            "Epoch 7/10\n",
            "4/4 [==============================] - 0s 25ms/step - loss: 0.6763 - accuracy: 0.5800\n",
            "Epoch 8/10\n",
            "4/4 [==============================] - 0s 24ms/step - loss: 0.6762 - accuracy: 0.5800\n",
            "Epoch 9/10\n",
            "4/4 [==============================] - 0s 24ms/step - loss: 0.6751 - accuracy: 0.5800\n",
            "Epoch 10/10\n",
            "4/4 [==============================] - 0s 24ms/step - loss: 0.6756 - accuracy: 0.5800\n"
          ]
        },
        {
          "output_type": "execute_result",
          "data": {
            "text/plain": [
              "<keras.src.callbacks.History at 0x799c47392b30>"
            ]
          },
          "metadata": {},
          "execution_count": 3
        }
      ],
      "source": [
        "import numpy as np\n",
        "import tensorflow as tf\n",
        "from tensorflow import keras\n",
        "from tensorflow.keras import layers\n",
        "\n",
        "# Generate some sample data (using preprocessed data)\n",
        "X_train = np.random.rand(100, 50, 3)  # Sample input data (100 sequences, each with 50 time steps and 3 features)\n",
        "y_train = np.random.randint(2, size=100)  # Sample labels (binary classification)\n",
        "\n",
        "# Define the LSTM model\n",
        "model = keras.Sequential()\n",
        "\n",
        "# LSTM layer\n",
        "model.add(layers.LSTM(50, input_shape=(X_train.shape[1], X_train.shape[2])))\n",
        "\n",
        "# Output layer\n",
        "model.add(layers.Dense(1, activation='sigmoid'))\n",
        "\n",
        "# Compile the model\n",
        "model.compile(loss='binary_crossentropy', optimizer='adam', metrics=['accuracy'])\n",
        "\n",
        "# Train the model\n",
        "model.fit(X_train, y_train, epochs=10, batch_size=32)\n",
        "\n",
        "# Optionally, evaluate the model\n",
        "# X_test and y_test are test data\n",
        "# loss, accuracy = model.evaluate(X_test, y_test)\n"
      ]
    },
    {
      "cell_type": "code",
      "source": [
        "import tensorflow as tf\n",
        "from tensorflow import keras\n",
        "from tensorflow.keras import layers\n",
        "\n",
        "# Define the LSTM model\n",
        "model = keras.Sequential()\n",
        "\n",
        "sequence_length = 50\n",
        "num_features = 3\n",
        "\n",
        "# LSTM layers\n",
        "model.add(layers.LSTM(64, return_sequences=True, input_shape=(sequence_length, num_features)))\n",
        "model.add(layers.LSTM(64, return_sequences=True))  # We can add more LSTM layers if needed\n",
        "\n",
        "# Optional dropout layer to prevent overfitting\n",
        "model.add(layers.Dropout(0.2))\n",
        "\n",
        "# Fully connected (dense) layers\n",
        "model.add(layers.Dense(32, activation='relu'))\n",
        "model.add(layers.Dense(1, activation='sigmoid'))  # For binary classification, use 'sigmoid'\n",
        "\n",
        "# Compile the model\n",
        "model.compile(loss='binary_crossentropy', optimizer='adam', metrics=['accuracy'])\n",
        "\n",
        "# Summary of the model architecture\n",
        "model.summary()\n"
      ],
      "metadata": {
        "colab": {
          "base_uri": "https://localhost:8080/"
        },
        "id": "NT6Zb-cRiWL3",
        "outputId": "03bb98ab-7cbb-499d-d247-7283104f9c60"
      },
      "execution_count": 12,
      "outputs": [
        {
          "output_type": "stream",
          "name": "stdout",
          "text": [
            "Model: \"sequential_8\"\n",
            "_________________________________________________________________\n",
            " Layer (type)                Output Shape              Param #   \n",
            "=================================================================\n",
            " lstm_5 (LSTM)               (None, 50, 64)            17408     \n",
            "                                                                 \n",
            " lstm_6 (LSTM)               (None, 50, 64)            33024     \n",
            "                                                                 \n",
            " dropout_1 (Dropout)         (None, 50, 64)            0         \n",
            "                                                                 \n",
            " dense_5 (Dense)             (None, 50, 32)            2080      \n",
            "                                                                 \n",
            " dense_6 (Dense)             (None, 50, 1)             33        \n",
            "                                                                 \n",
            "=================================================================\n",
            "Total params: 52545 (205.25 KB)\n",
            "Trainable params: 52545 (205.25 KB)\n",
            "Non-trainable params: 0 (0.00 Byte)\n",
            "_________________________________________________________________\n"
          ]
        }
      ]
    }
  ]
}