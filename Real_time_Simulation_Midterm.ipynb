{
  "nbformat": 4,
  "nbformat_minor": 0,
  "metadata": {
    "colab": {
      "provenance": [],
      "authorship_tag": "ABX9TyMbS9nsYj2+43YPfdxGorQ2",
      "include_colab_link": true
    },
    "kernelspec": {
      "name": "python3",
      "display_name": "Python 3"
    },
    "language_info": {
      "name": "python"
    }
  },
  "cells": [
    {
      "cell_type": "markdown",
      "metadata": {
        "id": "view-in-github",
        "colab_type": "text"
      },
      "source": [
        "<a href=\"https://colab.research.google.com/github/Sardorbek-HUB/Predictive_Maintenance_for_Conveyor_Belts/blob/main/Real_time_Simulation_Midterm.ipynb\" target=\"_parent\"><img src=\"https://colab.research.google.com/assets/colab-badge.svg\" alt=\"Open In Colab\"/></a>"
      ]
    },
    {
      "cell_type": "code",
      "execution_count": 1,
      "metadata": {
        "colab": {
          "base_uri": "https://localhost:8080/"
        },
        "id": "Tzzew0NrprYp",
        "outputId": "6a3b9373-df8f-474b-e773-f412858ab6ff"
      },
      "outputs": [
        {
          "output_type": "stream",
          "name": "stdout",
          "text": [
            "Time: 0.00 sec, Temperature: 28.30 C, Vibration: 0.53 mm/s, Belt Speed: 1.66 m/s\n",
            "Time: 1.00 sec, Temperature: 20.98 C, Vibration: 1.80 mm/s, Belt Speed: 2.37 m/s\n",
            "Time: 2.00 sec, Temperature: 23.02 C, Vibration: 1.91 mm/s, Belt Speed: 2.34 m/s\n",
            "Time: 3.00 sec, Temperature: 22.81 C, Vibration: 0.74 mm/s, Belt Speed: 2.04 m/s\n",
            "Time: 4.00 sec, Temperature: 24.42 C, Vibration: 0.79 mm/s, Belt Speed: 1.81 m/s\n",
            "Time: 5.01 sec, Temperature: 24.02 C, Vibration: 0.84 mm/s, Belt Speed: 2.47 m/s\n",
            "Time: 6.01 sec, Temperature: 28.44 C, Vibration: 1.73 mm/s, Belt Speed: 2.06 m/s\n",
            "Time: 7.01 sec, Temperature: 26.98 C, Vibration: 0.22 mm/s, Belt Speed: 2.47 m/s\n",
            "Time: 8.01 sec, Temperature: 22.87 C, Vibration: 0.72 mm/s, Belt Speed: 2.29 m/s\n",
            "Time: 9.01 sec, Temperature: 20.97 C, Vibration: 1.52 mm/s, Belt Speed: 1.67 m/s\n",
            "Time: 10.01 sec, Temperature: 24.13 C, Vibration: 0.53 mm/s, Belt Speed: 1.76 m/s\n",
            "Time: 11.02 sec, Temperature: 20.10 C, Vibration: 1.57 mm/s, Belt Speed: 1.61 m/s\n",
            "Time: 12.02 sec, Temperature: 20.45 C, Vibration: 1.61 mm/s, Belt Speed: 1.61 m/s\n",
            "Time: 13.02 sec, Temperature: 24.60 C, Vibration: 1.89 mm/s, Belt Speed: 2.05 m/s\n",
            "Time: 14.02 sec, Temperature: 20.87 C, Vibration: 1.50 mm/s, Belt Speed: 1.56 m/s\n",
            "Time: 15.02 sec, Temperature: 28.81 C, Vibration: 1.88 mm/s, Belt Speed: 1.99 m/s\n",
            "Time: 16.02 sec, Temperature: 29.79 C, Vibration: 0.62 mm/s, Belt Speed: 2.31 m/s\n",
            "Time: 17.02 sec, Temperature: 23.68 C, Vibration: 0.29 mm/s, Belt Speed: 1.55 m/s\n",
            "Time: 18.03 sec, Temperature: 28.88 C, Vibration: 0.55 mm/s, Belt Speed: 1.89 m/s\n",
            "Time: 19.03 sec, Temperature: 25.59 C, Vibration: 1.94 mm/s, Belt Speed: 2.05 m/s\n",
            "Time: 20.03 sec, Temperature: 29.80 C, Vibration: 1.48 mm/s, Belt Speed: 2.11 m/s\n",
            "Time: 21.03 sec, Temperature: 29.47 C, Vibration: 1.64 mm/s, Belt Speed: 1.73 m/s\n",
            "Time: 22.03 sec, Temperature: 27.86 C, Vibration: 1.45 mm/s, Belt Speed: 1.63 m/s\n",
            "Time: 23.03 sec, Temperature: 27.05 C, Vibration: 1.07 mm/s, Belt Speed: 2.20 m/s\n",
            "Time: 24.03 sec, Temperature: 24.52 C, Vibration: 1.89 mm/s, Belt Speed: 2.20 m/s\n",
            "Time: 25.03 sec, Temperature: 27.60 C, Vibration: 1.94 mm/s, Belt Speed: 2.19 m/s\n",
            "Time: 26.04 sec, Temperature: 27.89 C, Vibration: 1.10 mm/s, Belt Speed: 1.93 m/s\n",
            "Time: 27.04 sec, Temperature: 25.87 C, Vibration: 0.42 mm/s, Belt Speed: 1.87 m/s\n",
            "Time: 28.04 sec, Temperature: 22.95 C, Vibration: 0.70 mm/s, Belt Speed: 1.87 m/s\n",
            "Time: 29.04 sec, Temperature: 28.08 C, Vibration: 0.04 mm/s, Belt Speed: 2.19 m/s\n",
            "Time: 30.04 sec, Temperature: 21.79 C, Vibration: 0.79 mm/s, Belt Speed: 2.12 m/s\n",
            "Time: 31.04 sec, Temperature: 23.90 C, Vibration: 0.23 mm/s, Belt Speed: 2.32 m/s\n",
            "Time: 32.04 sec, Temperature: 21.35 C, Vibration: 1.93 mm/s, Belt Speed: 1.93 m/s\n",
            "Time: 33.04 sec, Temperature: 23.10 C, Vibration: 0.14 mm/s, Belt Speed: 2.03 m/s\n",
            "Time: 34.04 sec, Temperature: 22.46 C, Vibration: 0.32 mm/s, Belt Speed: 2.29 m/s\n",
            "Time: 35.05 sec, Temperature: 22.47 C, Vibration: 0.69 mm/s, Belt Speed: 1.81 m/s\n",
            "Time: 36.05 sec, Temperature: 28.76 C, Vibration: 0.45 mm/s, Belt Speed: 2.30 m/s\n",
            "Time: 37.05 sec, Temperature: 23.05 C, Vibration: 0.24 mm/s, Belt Speed: 1.74 m/s\n",
            "Time: 38.05 sec, Temperature: 28.09 C, Vibration: 0.72 mm/s, Belt Speed: 1.93 m/s\n",
            "Time: 39.05 sec, Temperature: 25.33 C, Vibration: 1.40 mm/s, Belt Speed: 2.30 m/s\n",
            "Time: 40.05 sec, Temperature: 28.12 C, Vibration: 1.22 mm/s, Belt Speed: 2.43 m/s\n",
            "Time: 41.05 sec, Temperature: 22.83 C, Vibration: 0.85 mm/s, Belt Speed: 1.77 m/s\n",
            "Time: 42.05 sec, Temperature: 20.75 C, Vibration: 1.83 mm/s, Belt Speed: 1.59 m/s\n",
            "Time: 43.06 sec, Temperature: 28.38 C, Vibration: 0.07 mm/s, Belt Speed: 1.70 m/s\n",
            "Time: 44.06 sec, Temperature: 23.82 C, Vibration: 0.11 mm/s, Belt Speed: 1.50 m/s\n",
            "Time: 45.06 sec, Temperature: 22.32 C, Vibration: 1.99 mm/s, Belt Speed: 2.18 m/s\n",
            "Time: 46.06 sec, Temperature: 27.34 C, Vibration: 0.42 mm/s, Belt Speed: 2.18 m/s\n",
            "Time: 47.06 sec, Temperature: 29.28 C, Vibration: 0.60 mm/s, Belt Speed: 2.31 m/s\n",
            "Time: 48.06 sec, Temperature: 25.50 C, Vibration: 0.34 mm/s, Belt Speed: 1.88 m/s\n",
            "Time: 49.06 sec, Temperature: 29.28 C, Vibration: 1.59 mm/s, Belt Speed: 2.16 m/s\n",
            "Time: 50.06 sec, Temperature: 21.70 C, Vibration: 0.03 mm/s, Belt Speed: 1.82 m/s\n",
            "Time: 51.07 sec, Temperature: 25.02 C, Vibration: 1.98 mm/s, Belt Speed: 1.86 m/s\n",
            "Time: 52.07 sec, Temperature: 25.42 C, Vibration: 1.45 mm/s, Belt Speed: 2.07 m/s\n",
            "Time: 53.07 sec, Temperature: 29.38 C, Vibration: 1.28 mm/s, Belt Speed: 2.23 m/s\n",
            "Time: 54.07 sec, Temperature: 29.04 C, Vibration: 0.02 mm/s, Belt Speed: 1.81 m/s\n",
            "Time: 55.07 sec, Temperature: 22.48 C, Vibration: 1.64 mm/s, Belt Speed: 2.31 m/s\n",
            "Time: 56.07 sec, Temperature: 21.52 C, Vibration: 1.13 mm/s, Belt Speed: 2.00 m/s\n",
            "Time: 57.07 sec, Temperature: 26.65 C, Vibration: 0.67 mm/s, Belt Speed: 2.41 m/s\n",
            "Time: 58.07 sec, Temperature: 22.63 C, Vibration: 0.96 mm/s, Belt Speed: 1.79 m/s\n",
            "Time: 59.08 sec, Temperature: 28.68 C, Vibration: 0.73 mm/s, Belt Speed: 2.00 m/s\n"
          ]
        }
      ],
      "source": [
        "import time\n",
        "import random\n",
        "\n",
        "def simulate_conveyor_belt_data(duration_seconds):\n",
        "    start_time = time.time()\n",
        "\n",
        "    while True:\n",
        "        # Calculate elapsed time\n",
        "        elapsed_time = time.time() - start_time\n",
        "\n",
        "        if elapsed_time >= duration_seconds:\n",
        "            break\n",
        "\n",
        "        # Simulate sensor readings\n",
        "        temperature = random.uniform(20, 30)  # Simulate temperature readings in Celsius\n",
        "        vibration = random.uniform(0, 2)      # Simulate vibration readings in mm/s\n",
        "        belt_speed = random.uniform(1.5, 2.5) # Simulate belt speed readings in m/s\n",
        "\n",
        "        # Print or process the sensor readings as needed\n",
        "        print(f\"Time: {elapsed_time:.2f} sec, Temperature: {temperature:.2f} C, Vibration: {vibration:.2f} mm/s, Belt Speed: {belt_speed:.2f} m/s\")\n",
        "\n",
        "        # You can save the data to a file or send it to a real-time data processing system\n",
        "\n",
        "        # Adjust the sleep time to control the data generation rate (e.g., data every second)\n",
        "        time.sleep(1)\n",
        "\n",
        "# Simulate data for 60 seconds\n",
        "simulate_conveyor_belt_data(60)\n"
      ]
    },
    {
      "cell_type": "code",
      "source": [
        "def collect_real_time_data():\n",
        "    # Implement the data collection code here.\n",
        "    # This can involve reading sensor values from sensors, IoT devices, databases, or any other data source.\n",
        "    # Organize the collected data into a format that matches the model's input shape (e.g., time series data).\n",
        "\n",
        "    # For example, if you are reading sensor data from a file, you might do something like this:\n",
        "    with open('real_time_sensor_data.csv', 'r') as file:\n",
        "        data = []  # Initialize an empty list to store sensor data\n",
        "        for line in file:\n",
        "            sensor_values = line.strip().split(',')  # Assuming data is comma-separated\n",
        "            # Convert sensor values to the appropriate data type and append to the data list\n",
        "            data.append([float(value) for value in sensor_values])\n",
        "    return data  # Return the collected data"
      ],
      "metadata": {
        "id": "gzRFtvt7qaZo"
      },
      "execution_count": 4,
      "outputs": []
    },
    {
      "cell_type": "code",
      "source": [
        "def alert_maintenance_team(predictions, threshold):\n",
        "    # Keep track of the number of consecutive predictions exceeding the threshold\n",
        "    consecutive_failures = 0\n",
        "\n",
        "    for prediction in predictions:\n",
        "        if prediction > threshold:\n",
        "            consecutive_failures += 1\n",
        "            if consecutive_failures >= 3:  # For example, require 3 consecutive failures to trigger an alert\n",
        "                send_alert_to_maintenance_team()\n",
        "        else:\n",
        "            consecutive_failures = 0  # Reset the count if the prediction is below the threshold\n",
        "\n",
        "def send_alert_to_maintenance_team():\n",
        "    # Implement the alerting mechanism, e.g., send an email or SMS notification\n",
        "    print(\"Alert: Predicted failure detected. Notify maintenance team.\")\n",
        "\n",
        "# Example usage\n",
        "predictions = [0.1, 0.3, 0.8, 0.9, 0.95, 0.7, 0.4, 0.2, 0.15]\n",
        "threshold = 0.5\n",
        "alert_maintenance_team(predictions, threshold)\n"
      ],
      "metadata": {
        "colab": {
          "base_uri": "https://localhost:8080/"
        },
        "id": "IiKnic1Dr5nL",
        "outputId": "7334ee97-3206-44af-d371-2c8134f8dd3b"
      },
      "execution_count": 5,
      "outputs": [
        {
          "output_type": "stream",
          "name": "stdout",
          "text": [
            "Alert: Predicted failure detected. Notify maintenance team.\n",
            "Alert: Predicted failure detected. Notify maintenance team.\n"
          ]
        }
      ]
    }
  ]
}