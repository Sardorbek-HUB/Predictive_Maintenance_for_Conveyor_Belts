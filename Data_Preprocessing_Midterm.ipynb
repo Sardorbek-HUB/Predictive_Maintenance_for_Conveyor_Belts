{
  "nbformat": 4,
  "nbformat_minor": 0,
  "metadata": {
    "colab": {
      "provenance": [],
      "authorship_tag": "ABX9TyM10KsDuvWTClJBwLsVGoBH",
      "include_colab_link": true
    },
    "kernelspec": {
      "name": "python3",
      "display_name": "Python 3"
    },
    "language_info": {
      "name": "python"
    }
  },
  "cells": [
    {
      "cell_type": "markdown",
      "metadata": {
        "id": "view-in-github",
        "colab_type": "text"
      },
      "source": [
        "<a href=\"https://colab.research.google.com/github/Sardorbek-HUB/Predictive_Maintenance_for_Conveyor_Belts/blob/main/Data_Preprocessing_Midterm.ipynb\" target=\"_parent\"><img src=\"https://colab.research.google.com/assets/colab-badge.svg\" alt=\"Open In Colab\"/></a>"
      ]
    },
    {
      "cell_type": "code",
      "execution_count": 5,
      "metadata": {
        "id": "X5dtHTOifIsl"
      },
      "outputs": [],
      "source": [
        "from sklearn.model_selection import train_test_split\n",
        "from sklearn.preprocessing import StandardScaler\n",
        "\n",
        "def preprocess_sequential_data(data, labels, test_size=0.2, random_state=42):\n",
        "    \"\"\"\n",
        "    Preprocess the generated sequential data by scaling and splitting it into training and testing sets.\n",
        "    \"\"\"\n",
        "\n",
        "    # Convert data and labels to NumPy arrays\n",
        "    X = np.array(data)\n",
        "    y = np.array(labels)\n",
        "\n",
        "    # Scale the data using StandardScaler\n",
        "    scaler = StandardScaler()\n",
        "    X = scaler.fit_transform(X)\n",
        "\n",
        "    # Split the data into training and testing sets\n",
        "    X_train, X_test, y_train, y_test = train_test_split(X, y, test_size=test_size, random_state=random_state)\n",
        "\n",
        "    return X_train, X_test, y_train, y_test\n",
        "\n",
        "    # Example usage to preprocess a dataset\n",
        "    X_train, X_test, y_train, y_test = preprocess_sequential_data(data, labels)\n"
      ]
    },
    {
      "cell_type": "code",
      "source": [
        "from sklearn.model_selection import train_test_split\n",
        "from sklearn.preprocessing import StandardScaler\n",
        "\n",
        "def preprocess_sequential_data(data, labels, test_size=0.2, random_state=42):\n",
        "    \"\"\"\n",
        "    Preprocess the generated sequential data by scaling and splitting it into training and testing sets.\n",
        "    \"\"\"\n",
        "\n",
        "    # Convert data and labels to NumPy arrays\n",
        "    X = np.array(data)\n",
        "    y = np.array(labels)\n",
        "\n",
        "    # Scale the data using StandardScaler\n",
        "    scaler = StandardScaler()\n",
        "    X = scaler.fit_transform(X)\n",
        "\n",
        "    # Split the data into training and testing sets\n",
        "    X_train, X_test, y_train, y_test = train_test_split(X, y, test_size=test_size, random_state=random_state)\n",
        "\n",
        "    return X_train, X_test, y_train, y_test\n",
        "\n",
        "    # Example usage to preprocess a dataset\n",
        "    X_train, X_test, y_train, y_test = preprocess_sequential_data(data, labels)\n"
      ],
      "metadata": {
        "id": "F4Vo04gCgcHo"
      },
      "execution_count": 6,
      "outputs": []
    },
    {
      "cell_type": "code",
      "source": [],
      "metadata": {
        "id": "b2uLfjGTgpKM"
      },
      "execution_count": null,
      "outputs": []
    }
  ]
}